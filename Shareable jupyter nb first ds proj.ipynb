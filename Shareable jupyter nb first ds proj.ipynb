{
    "cells": [
        {
            "cell_type": "markdown",
            "metadata": {},
            "source": "# My Jupyter Notebook on IBM Watson Studio "
        },
        {
            "cell_type": "markdown",
            "metadata": {},
            "source": "**PURNENDU CHOWDHURY**\nComputer Engineer\n"
        },
        {
            "cell_type": "markdown",
            "metadata": {},
            "source": "*I am interested in data science because it helps me get intuitive insights*"
        },
        {
            "cell_type": "markdown",
            "metadata": {},
            "source": "###My code is supposed to simply add two numbers sent to the function add() as arguments and display the o/p"
        },
        {
            "cell_type": "code",
            "execution_count": null,
            "metadata": {},
            "outputs": [],
            "source": "def add(a,b):\n return a+b;\nadd(5,3)"
        },
        {
            "cell_type": "markdown",
            "metadata": {},
            "source": "- ds\n- algo\n- ml\n1. cs\n2. tech\n3. data\n\n\n__[yahoo](https://in.yahoo.com)__"
        },
        {
            "cell_type": "code",
            "execution_count": null,
            "metadata": {},
            "outputs": [],
            "source": ""
        }
    ],
    "metadata": {
        "kernelspec": {
            "display_name": "Python 3.10",
            "language": "python",
            "name": "python3"
        },
        "language_info": {
            "codemirror_mode": {
                "name": "ipython",
                "version": 3
            },
            "file_extension": ".py",
            "mimetype": "text/x-python",
            "name": "python",
            "nbconvert_exporter": "python",
            "pygments_lexer": "ipython3",
            "version": "3.10.9"
        }
    },
    "nbformat": 4,
    "nbformat_minor": 1
}